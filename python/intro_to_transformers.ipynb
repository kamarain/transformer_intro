{
 "cells": [
  {
   "cell_type": "markdown",
   "id": "69aa7a6d-c26d-4f74-bbb9-2d10a193a6aa",
   "metadata": {},
   "source": [
    "# Introduction to Sequence Modeling with Transformers\n",
    "\n",
    "This Jupyter notebook accompanies the following article (please, cite in your work or Web page if you find it useful):\n",
    "\n",
    " * TO BE DEFINED\n"
   ]
  },
  {
   "cell_type": "markdown",
   "id": "4539a705-119c-4e71-8946-44fba9329409",
   "metadata": {},
   "source": [
    "## Torch.nn.Transformer\n",
    "\n",
    "It seems that the generic Transformer module of PyTorch is becoming depricated, but since it conveniently hides all details about implementing the transformer architecture itself, it is used in these code examples.\n",
    "\n",
    "**Note:** This code does not necessarily work with other implementations of Transformer\n",
    "\n",
    "Fundamental imports are the following and this code is tested on Python 3.12.2 and everything installed through Linux Conda package manager."
   ]
  },
  {
   "cell_type": "code",
   "execution_count": 605,
   "id": "cb6886dc-d8dd-40b6-9570-55f6d10016b5",
   "metadata": {},
   "outputs": [
    {
     "name": "stdout",
     "output_type": "stream",
     "text": [
      "3.12.2\n"
     ]
    }
   ],
   "source": [
    "import torch\n",
    "import torch.nn as nn\n",
    "import torch.optim as optim\n",
    "import torch.optim.lr_scheduler as lr_scheduler\n",
    "\n",
    "import math\n",
    "import numpy as np\n",
    "import numpy.random as random\n",
    "\n",
    "import matplotlib.pyplot as plt\n",
    "\n",
    "import platform\n",
    "\n",
    "print(platform.python_version())"
   ]
  },
  {
   "cell_type": "markdown",
   "id": "70b2353f-7deb-4136-9c19-fb9928a5e120",
   "metadata": {},
   "source": [
    "## PlainTransformer - Transformer and nothing but the transformer\n",
    "\n",
    "Define a PlainTransformer class that has [nn.torch.Transformer](https://pytorch.org/docs/stable/generated/torch.nn.Transformer.html) as a member variable.\n",
    "\n",
    "The class can take take a sequence (e.g. [0, 0, 0, 0]) as input, then puts it through the torch.nn.Transformer model, and gives the Transformer as output.\n",
    "\n",
    "**Note:** The only additional change to the default parameters is `norm_first = True` since the original plain transformer architecture had difficulty converging, but it was later found that doing normalization *before* multiheaded attention stabilizes learning (no heatup with increasing learning rate needed in the beginning of training)\n"
   ]
  },
  {
   "cell_type": "code",
   "execution_count": 606,
   "id": "0c81cef0-bf48-4398-bd5a-8b0b58fee38f",
   "metadata": {},
   "outputs": [],
   "source": [
    "class PlainTransformer(nn.Module):\n",
    "    def __init__(\n",
    "        self,\n",
    "        d_model,\n",
    "        nhead,\n",
    "        num_encoder_layers,\n",
    "        num_decoder_layers,\n",
    "        dim_feedforward,\n",
    "        dropout_p,\n",
    "        layer_norm_eps\n",
    "    ):\n",
    "        super().__init__()\n",
    "\n",
    "        # Transformer initialized with user specs\n",
    "        self.transformer = nn.Transformer(\n",
    "            d_model = d_model,\n",
    "            nhead = nhead,\n",
    "            num_encoder_layers = num_encoder_layers,\n",
    "            num_decoder_layers = num_decoder_layers,\n",
    "            dim_feedforward = dim_feedforward,\n",
    "            dropout = dropout_p,\n",
    "            layer_norm_eps = layer_norm_eps,\n",
    "            norm_first = True\n",
    "        )\n",
    "\n",
    "    def forward(\n",
    "        self,\n",
    "        src,\n",
    "        tgt,\n",
    "    ):\n",
    "        # Transformer assumes that src & tgt structure is (seq_length, batch_num, feat_dim)\n",
    "        out = self.transformer(src, tgt)\n",
    "\n",
    "        return out"
   ]
  },
  {
   "cell_type": "markdown",
   "id": "76a77195-7686-4afe-86d0-d0939f274c6f",
   "metadata": {},
   "source": [
    "Let's define PlainTransformer with sminimal settings. Everything is one, but to make the linear feedforward part to have any meaning, we assign 8 neurons there."
   ]
  },
  {
   "cell_type": "code",
   "execution_count": 607,
   "id": "f2403825-124d-4ca9-abbd-c05bfb0d88a2",
   "metadata": {},
   "outputs": [
    {
     "name": "stdout",
     "output_type": "stream",
     "text": [
      "The model has 88 parameters (88 trainable)\n"
     ]
    }
   ],
   "source": [
    "model = PlainTransformer(d_model = 1, nhead = 1, num_encoder_layers = 1, num_decoder_layers = 1, dim_feedforward = 8, dropout_p = 0.1, layer_norm_eps = 1e-05)\n",
    "\n",
    "#print(model)\n",
    "print(f'The model has {sum(p.numel() for p in model.parameters())} parameters ({sum(p.numel() for p in model.parameters() if p.requires_grad)} trainable)')"
   ]
  },
  {
   "cell_type": "markdown",
   "id": "219d9f6d-8be9-4db9-a620-9a1941593ab9",
   "metadata": {},
   "source": [
    "**Training data**\n",
    "\n",
    "Let's start with two symbols only:\n",
    "\n",
    " * 0\n",
    " * 1\n",
    "\n",
    "The two symbols can be used in binary sequences. The simplest task is perhaps to continue the sequences. The training data is\n",
    "\n",
    " * X: 0, 0, 0 $\\rightarrow$ Y: 0, 0, 0\n",
    " * X: 1, 1, 1 $\\rightarrow$ Y: 1, 1, 1"
   ]
  },
  {
   "cell_type": "code",
   "execution_count": 608,
   "id": "1a28adb4-aea7-47da-adc1-af24b648f695",
   "metadata": {},
   "outputs": [],
   "source": [
    "def generate_data1(n):\n",
    "    SOS_token = np.array([2])\n",
    "    EOS_token = np.array([3])\n",
    "\n",
    "    data = []\n",
    "\n",
    "    # 1,1,1,1 -> 1,1,1,1\n",
    "    for i in range(n // 2):\n",
    "        X = np.ones(4)\n",
    "        y = np.ones(4)\n",
    "        data.append([X, y])\n",
    "\n",
    "    # 0,0,0,0 -> 0,0,0,0\n",
    "    for i in range(n // 2):\n",
    "        X = np.zeros(4)\n",
    "        y = np.zeros(4)\n",
    "        data.append([X, y])\n",
    "\n",
    "    np.random.shuffle(data)\n",
    "\n",
    "    return data"
   ]
  },
  {
   "cell_type": "markdown",
   "id": "53e7a11d-af1e-467a-a0d5-ff551667bb83",
   "metadata": {},
   "source": [
    "Run several times to make sure both types of sequences are generated"
   ]
  },
  {
   "cell_type": "code",
   "execution_count": 609,
   "id": "65e74ca4-1d13-4297-8690-954df893543b",
   "metadata": {},
   "outputs": [
    {
     "name": "stdout",
     "output_type": "stream",
     "text": [
      "[0. 0. 0. 0.]\n",
      "[0. 0. 0. 0.]\n",
      "[1. 1. 1. 1.]\n",
      "[1. 1. 1. 1.]\n",
      "[0. 0. 0. 0.]\n",
      "[0. 0. 0. 0.]\n"
     ]
    }
   ],
   "source": [
    "tr_data = generate_data1(100)\n",
    "\n",
    "print(tr_data[0][0])\n",
    "print(tr_data[0][1])\n",
    "\n",
    "print(tr_data[1][0])\n",
    "print(tr_data[1][1])\n",
    "\n",
    "print(tr_data[2][0])\n",
    "print(tr_data[2][1])"
   ]
  },
  {
   "cell_type": "markdown",
   "id": "fbc2f1c1-9afb-4b26-a4fa-dc45ae563863",
   "metadata": {},
   "source": [
    "Form training matrices of ```Seq len x Num samples x Feat dim```"
   ]
  },
  {
   "cell_type": "code",
   "execution_count": 610,
   "id": "d3f049f7-14e1-4ad8-a9a6-0da5cba7e6f3",
   "metadata": {},
   "outputs": [
    {
     "name": "stdout",
     "output_type": "stream",
     "text": [
      "torch.Size([4, 100, 1])\n",
      "tensor([0., 0., 0., 0.])\n",
      "tensor([0., 0., 0., 0.])\n",
      "tensor([1., 1., 1., 1.])\n",
      "tensor([1., 1., 1., 1.])\n",
      "tensor([0., 0., 0., 0.])\n",
      "tensor([0., 0., 0., 0.])\n"
     ]
    }
   ],
   "source": [
    "X_tr = torch.empty((len(tr_data[0][0]),len(tr_data),1))\n",
    "Y_tr = torch.empty((len(tr_data[0][1]),len(tr_data),1))\n",
    "for ids, s in enumerate(tr_data):\n",
    "    X_tr[:,ids,0] = torch.from_numpy(s[0])\n",
    "    Y_tr[:,ids,0] = torch.from_numpy(s[1])\n",
    "print(X_tr.shape)\n",
    "\n",
    "print(X_tr[:,0,0])\n",
    "print(Y_tr[:,0,0])\n",
    "\n",
    "print(X_tr[:,1,0])\n",
    "print(Y_tr[:,1,0])\n",
    "\n",
    "print(X_tr[:,2,0])\n",
    "print(Y_tr[:,2,0])"
   ]
  },
  {
   "cell_type": "code",
   "execution_count": 611,
   "id": "2fb250fa-8678-49e6-8292-936ceb1e94d8",
   "metadata": {},
   "outputs": [
    {
     "name": "stdout",
     "output_type": "stream",
     "text": [
      "   Epoch 0 training loss 0.5 (lr=0.01)\n",
      "   Epoch 100 training loss 0.2500151991844177 (lr=0.01)\n",
      "   Epoch 200 training loss 0.25 (lr=0.01)\n",
      "Final:   Epoch 299 training loss 0.25 (lr=0.01)\n"
     ]
    }
   ],
   "source": [
    "num_of_epochs = 300\n",
    "loss_mse = torch.nn.MSELoss()\n",
    "optimizer = torch.optim.Adam(model.parameters(), lr=0.01)\n",
    "scheduler = lr_scheduler.MultiStepLR(optimizer, milestones=[1000], gamma=0.1)\n",
    "model.train()\n",
    "for n in range(num_of_epochs):\n",
    "    running_loss = 0.0\n",
    "    Y_in = Y_tr[:-1,:,:]\n",
    "    Y_out = Y_tr[1:,:,:]\n",
    "    Y_pred = model(X_tr,Y_in)\n",
    "    loss = loss_mse(Y_pred,Y_out)\n",
    "\n",
    "    optimizer.zero_grad()\n",
    "    loss.backward()\n",
    "    optimizer.step()\n",
    "    running_loss += loss.item()\n",
    "    scheduler.step()\n",
    "    if n % 100 == 0:\n",
    "        print(f'   Epoch {n} training loss {running_loss} (lr={optimizer.param_groups[0][\"lr\"]})')\n",
    "print(f'Final:   Epoch {n} training loss {running_loss} (lr={optimizer.param_groups[0][\"lr\"]})')"
   ]
  },
  {
   "cell_type": "code",
   "execution_count": 612,
   "id": "3f29a717-28fd-4d43-bbb5-0843849fb628",
   "metadata": {},
   "outputs": [
    {
     "name": "stdout",
     "output_type": "stream",
     "text": [
      "Example 0\n",
      "Input: [0, 0, 0, 0]\n",
      "Target: [0, 0, 0, 0]\n",
      "Output: [0.5000001192092896, 0.5000001192092896, 0.5000001192092896, 0.5000001192092896]\n",
      "\n",
      "Example 1\n",
      "Input: [1, 1, 1, 1]\n",
      "Target: [1, 1, 1, 1]\n",
      "Output: [0.5000001192092896, 0.5000001192092896, 0.5000001192092896, 0.5000001192092896]\n",
      "\n"
     ]
    },
    {
     "name": "stderr",
     "output_type": "stream",
     "text": [
      "/tmp/ipykernel_4931/2730787215.py:10: UserWarning: To copy construct from a tensor, it is recommended to use sourceTensor.clone().detach() or sourceTensor.clone().detach().requires_grad_(True), rather than torch.tensor(sourceTensor).\n",
      "  src = torch.tensor(torch.empty((4,1,1)))\n"
     ]
    }
   ],
   "source": [
    "# Here we test some examples to observe how the model predicts\n",
    "examples = [\n",
    "    torch.tensor([0, 0, 0, 0], dtype=torch.long),\n",
    "    torch.tensor([1, 1, 1, 1], dtype=torch.long)\n",
    "]\n",
    "\n",
    "model.eval()\n",
    "\n",
    "for idx, example in enumerate(examples):\n",
    "    src = torch.tensor(torch.empty((4,1,1)))\n",
    "    src[:,0,0] = examples[idx]\n",
    "    result = model(src, src)\n",
    "    print(f\"Example {idx}\")\n",
    "    print(f\"Input: {example.view(-1).tolist()}\")\n",
    "    print(f\"Target: {example.view(-1).tolist()}\")\n",
    "    print(f\"Output: {torch.squeeze(result).tolist()}\")\n",
    "    print()"
   ]
  },
  {
   "cell_type": "markdown",
   "id": "23cc85cb-a1aa-4a4f-85d4-6b6d4c98a527",
   "metadata": {},
   "source": [
    "**Findings:** Transformer is suitable for providing information about the most likely next token given the input sequence $\\mathbf{X}$ and the current output sequence $\\mathbf{Y}$. However, it the Transformer output is used as the next output sequence token, then it cannot do better than to provide a single token that minimizes the mean squared error (MSE). In the case of equal amount of '1' and '0' as output it learns to predict 0.5 that is between the two values. You can change the values, e.g., to '0' and '10' to validate this finding.\n",
    "\n",
    "To improve PlainTransformer we must introduce a mapping from 'tokens' (sequence symbols) to an internal representation that carries out information about the best next token, and then again back to tokens. These two steps are called *embedding* and *unembedding*. They convert every token to a token specific vector (of the length `d_model`) and back. Embedding is a table lookup from 1 to model dimensional vector, but the vector representation can be optimized during training."
   ]
  },
  {
   "cell_type": "markdown",
   "id": "1bd747f9-495c-4eb8-a045-e087f36a8d59",
   "metadata": {},
   "source": [
    "## TokenTransformer - Add token embedding and un-embedding\n",
    "\n",
    "At first, let's turn from integers to talk about *tokens*. The input and output sequences, $\\textbf{X}$ and $\\textbf{Y}$, are sequences of tokens with unique (integer) Id. Let's use the following tokens next:\n",
    "\n",
    "```\n",
    "Symbol 0 is 0\n",
    "Symbol 1 is 1\n",
    "Symbol <SOS> is 2 // Start of sequence\n",
    "Symbol <EOS> is 3 // End of sequence\n",
    "```\n",
    "\n",
    "The SOS and EOS tokens help the transformer to learn the beginning and end of sequences."
   ]
  },
  {
   "cell_type": "markdown",
   "id": "86160ac4-3f86-4d7c-81cb-ca3bc7650149",
   "metadata": {},
   "source": [
    "Generate tokenized data"
   ]
  },
  {
   "cell_type": "markdown",
   "id": "6f1fa239-b60d-4d1e-9d85-f2c9f2a6725d",
   "metadata": {},
   "source": [
    "We have the following tokens:\n",
    "\n",
    " *       `0` : 0 \n",
    " *       `1` : 1 \n",
    " * `<SOS>` : 2\n",
    " * `<EOS>` : 3\n",
    "\n",
    "Let's try to generate a single output from a sequence input\n",
    "\n",
    " * input: SOS,0,0,0,EOS  output: SOS,0,EOS\n",
    " * input: SOS,1,1,1,EOS  output: SOS,1,EOS\n",
    "\n",
    "or vice versa\n",
    "\n",
    " * SOS,0,EOS -> SOS,0,0,0,EOS\n",
    " * SOS,1,EOS -> SOS,1,1,1,EOS"
   ]
  },
  {
   "cell_type": "code",
   "execution_count": 613,
   "id": "8b0de8fe-b1b2-436e-bb93-d86f0d6117fd",
   "metadata": {},
   "outputs": [],
   "source": [
    "def generate_data1_tokens(n):\n",
    "    SOS_token = np.array([2])\n",
    "    EOS_token = np.array([3])\n",
    "\n",
    "    data = []\n",
    "\n",
    "    # 0,0,0,0 -> 0,0,0,0\n",
    "    for i in range(n // 2):\n",
    "        X = np.concatenate((SOS_token, [0, 0, 0, 0], EOS_token))\n",
    "        y = np.concatenate((SOS_token, [0, 0, 0, 0], EOS_token))\n",
    "        data.append([X, y])\n",
    "\n",
    "    # 1,1,1,1 -> 1,1,1,1 \n",
    "    for i in range(n // 2):\n",
    "        X = np.concatenate((SOS_token, [1, 1, 1, 1], EOS_token))\n",
    "        y = np.concatenate((SOS_token, [1, 1, 1, 1], EOS_token))\n",
    "        data.append([X, y])\n",
    "\n",
    "    np.random.shuffle(data)\n",
    "\n",
    "    return data"
   ]
  },
  {
   "cell_type": "code",
   "execution_count": 56,
   "id": "f48d91e2-58a7-460c-aa92-f14c51c9abb6",
   "metadata": {},
   "outputs": [],
   "source": [
    "def generate_data2(n):\n",
    "    SOS_token = np.array([2])\n",
    "    EOS_token = np.array([3])\n",
    "\n",
    "    data = []\n",
    "\n",
    "    # 0,0,0 -> 1 \n",
    "    for i in range(n // 2):\n",
    "        X = np.concatenate((SOS_token, [0, 0, 0], EOS_token))\n",
    "        y = np.concatenate((SOS_token, [1], EOS_token))\n",
    "        data.append([X, y])\n",
    "\n",
    "    # 1,1,1 -> 0 \n",
    "    for i in range(n // 2):\n",
    "        X = np.concatenate((SOS_token, [1, 1, 1], EOS_token))\n",
    "        y = np.concatenate((SOS_token, [0], EOS_token))\n",
    "        data.append([X, y])\n",
    "\n",
    "    np.random.shuffle(data)\n",
    "\n",
    "    return data"
   ]
  },
  {
   "cell_type": "code",
   "execution_count": 70,
   "id": "126b6ed9-e129-4d7e-a6fd-4ca09cea54f0",
   "metadata": {},
   "outputs": [],
   "source": [
    "def generate_data3(n):\n",
    "    SOS_token = np.array([2])\n",
    "    EOS_token = np.array([3])\n",
    "\n",
    "    data = []\n",
    "        \n",
    "    # 1 -> 0,0,0 \n",
    "    for i in range(n // 2):\n",
    "        y = np.concatenate((SOS_token, [0, 0, 0], EOS_token))\n",
    "        X = np.concatenate((SOS_token, [1], EOS_token))\n",
    "        data.append([X, y])\n",
    "\n",
    "    # 1 -> 1,1,1 \n",
    "    for i in range(n // 2):\n",
    "        y = np.concatenate((SOS_token, [1, 1, 1], EOS_token))\n",
    "        X = np.concatenate((SOS_token, [0], EOS_token))\n",
    "        data.append([X, y])\n",
    "\n",
    "    np.random.shuffle(data)\n",
    "\n",
    "    return data"
   ]
  },
  {
   "cell_type": "code",
   "execution_count": 650,
   "id": "1bfa817a-8a2c-46f4-a564-193875af1d5a",
   "metadata": {},
   "outputs": [
    {
     "name": "stdout",
     "output_type": "stream",
     "text": [
      "[2 1 3]\n",
      "[2 0 0 0 3]\n",
      "[2 1 3]\n",
      "[2 0 0 0 3]\n",
      "[2 0 3]\n",
      "[2 1 1 1 3]\n"
     ]
    }
   ],
   "source": [
    "#tr_data = generate_data1_tokens(100)\n",
    "#tr_data = generate_data2(100)\n",
    "tr_data = generate_data3(100)\n",
    "\n",
    "\n",
    "print(tr_data[0][0])\n",
    "print(tr_data[0][1])\n",
    "\n",
    "print(tr_data[1][0])\n",
    "print(tr_data[1][1])\n",
    "\n",
    "print(tr_data[2][0])\n",
    "print(tr_data[2][1])"
   ]
  },
  {
   "cell_type": "markdown",
   "id": "2dfa3dc5-aeaa-498f-bf8a-c1a20b73b073",
   "metadata": {},
   "source": [
    "Generate training data tensors. Note that now we do not generate extra dimension (seq len x num samples x 1) for the tokens that are one-dimensional since embedding will add the requested number of dimensions (seq len x num samples x num feats)."
   ]
  },
  {
   "cell_type": "code",
   "execution_count": 651,
   "id": "a8f91756-2dd4-4dbb-850f-fa4f95e78ffb",
   "metadata": {},
   "outputs": [
    {
     "name": "stdout",
     "output_type": "stream",
     "text": [
      "torch.Size([3, 100])\n",
      "tensor([2., 1., 3.])\n",
      "tensor([2., 0., 0., 0., 3.])\n",
      "tensor([2., 1., 3.])\n",
      "tensor([2., 0., 0., 0., 3.])\n",
      "tensor([2., 0., 3.])\n",
      "tensor([2., 1., 1., 1., 3.])\n"
     ]
    }
   ],
   "source": [
    "X_tr = torch.empty((len(tr_data[0][0]),len(tr_data)))\n",
    "Y_tr = torch.empty((len(tr_data[0][1]),len(tr_data)))\n",
    "for ids, s in enumerate(tr_data):\n",
    "    X_tr[:,ids] = torch.from_numpy(s[0])\n",
    "    Y_tr[:,ids] = torch.from_numpy(s[1])\n",
    "print(X_tr.shape)\n",
    "\n",
    "print(X_tr[:,0])\n",
    "print(Y_tr[:,0])\n",
    "\n",
    "print(X_tr[:,1])\n",
    "print(Y_tr[:,1])\n",
    "\n",
    "print(X_tr[:,2])\n",
    "print(Y_tr[:,2])"
   ]
  },
  {
   "cell_type": "markdown",
   "id": "7ce352c8-a925-442d-86b7-30b34994853c",
   "metadata": {},
   "source": [
    "Tokenization does not help as such, but for each token a special *embedding vector* can be generated. Embedding vector may carry more information than a single value.\n",
    "\n",
    "**Note:** Unembedding is actually performed by a linear layer that converts the embedding vector to a vector with the same length as the number of tokens. Now, the next token selection becomes a classification task. We assume that the unembedding vector contains probabilities of each token. By using the *cross-entropy error* as loss function we can optimize this mapping. Note that [torch.nn.CrossEntropyLoss](https://pytorch.org/docs/stable/generated/torch.nn.CrossEntropyLoss.html) performs the soft-max operation internally and therefore it does not need to be part of the Transformer architecture."
   ]
  },
  {
   "cell_type": "code",
   "execution_count": 652,
   "id": "10bede6b-d8d9-4549-a437-731cba3e17fd",
   "metadata": {},
   "outputs": [],
   "source": [
    "class TokenTransformer(nn.Module):\n",
    "    # Constructor\n",
    "    def __init__(\n",
    "        self,\n",
    "        num_tokens,\n",
    "        d_model,\n",
    "        nhead,\n",
    "        num_encoder_layers,\n",
    "        num_decoder_layers,\n",
    "        dim_feedforward,\n",
    "        dropout_p,\n",
    "        layer_norm_eps\n",
    "    ):\n",
    "        super().__init__()\n",
    "\n",
    "        self.d_model = d_model\n",
    "        \n",
    "        # Token embedding layer - this takes care of converting integer ids to vectors\n",
    "        self.embedding = nn.Embedding(num_tokens, d_model)\n",
    "\n",
    "        # Token \"unembedding\" to one-hot encoded token vector\n",
    "        self.unembedding = nn.Linear(d_model, num_tokens)\n",
    "\n",
    "        self.transformer = nn.Transformer(\n",
    "            d_model = d_model,\n",
    "            nhead = nhead,\n",
    "            num_encoder_layers = num_encoder_layers,\n",
    "            num_decoder_layers = num_decoder_layers,\n",
    "            dim_feedforward = dim_feedforward,\n",
    "            dropout = dropout_p,\n",
    "            layer_norm_eps = layer_norm_eps,\n",
    "            norm_first = True\n",
    "\n",
    "        )\n",
    "\n",
    "    def forward(\n",
    "        self,\n",
    "        src,\n",
    "        tgt,\n",
    "    ):\n",
    "        # Note: src & tgt default size is (seq_length, batch_num, feat_dim)\n",
    "\n",
    "        # Token embedding\n",
    "        src = self.embedding(src) * math.sqrt(self.d_model)\n",
    "        tgt = self.embedding(tgt) * math.sqrt(self.d_model)        \n",
    "\n",
    "        # Transformer output\n",
    "        out = self.transformer(src, tgt)\n",
    "        out = self.unembedding(out)\n",
    "        \n",
    "        return out"
   ]
  },
  {
   "cell_type": "code",
   "execution_count": 653,
   "id": "6fde67d1-63e4-4aab-bf84-a423167c0017",
   "metadata": {},
   "outputs": [
    {
     "name": "stdout",
     "output_type": "stream",
     "text": [
      "The model has 1332 parameters (1332 trainable)\n"
     ]
    }
   ],
   "source": [
    "model = TokenTransformer(num_tokens = 4, d_model = 8, nhead = 1, num_encoder_layers = 1, num_decoder_layers = 1, dim_feedforward = 8, dropout_p = 0.1, layer_norm_eps = 1e-05)\n",
    "\n",
    "#print(model)\n",
    "print(f'The model has {sum(p.numel() for p in model.parameters())} parameters ({sum(p.numel() for p in model.parameters() if p.requires_grad)} trainable)')"
   ]
  },
  {
   "cell_type": "code",
   "execution_count": 654,
   "id": "b8a9f198-fc4a-4f6d-9a9a-50aeb88b0b7d",
   "metadata": {},
   "outputs": [
    {
     "name": "stdout",
     "output_type": "stream",
     "text": [
      "   Epoch 0 training loss 1.7185521125793457 (lr=0.01)\n",
      "   Epoch 10 training loss 0.8853638172149658 (lr=0.01)\n",
      "   Epoch 20 training loss 0.6139825582504272 (lr=0.01)\n",
      "   Epoch 30 training loss 0.5334428548812866 (lr=0.01)\n",
      "   Epoch 40 training loss 0.5198378562927246 (lr=0.01)\n",
      "   Epoch 50 training loss 0.5032289028167725 (lr=0.01)\n",
      "   Epoch 60 training loss 0.49656495451927185 (lr=0.01)\n",
      "   Epoch 70 training loss 0.48345768451690674 (lr=0.01)\n",
      "   Epoch 80 training loss 0.4878406822681427 (lr=0.01)\n",
      "   Epoch 90 training loss 0.4918283522129059 (lr=0.01)\n",
      "   Epoch 100 training loss 0.4875854253768921 (lr=0.001)\n",
      "   Epoch 110 training loss 0.48796412348747253 (lr=0.001)\n",
      "   Epoch 120 training loss 0.48857489228248596 (lr=0.001)\n",
      "   Epoch 130 training loss 0.4851394593715668 (lr=0.001)\n",
      "   Epoch 140 training loss 0.48720890283584595 (lr=0.001)\n",
      "   Epoch 150 training loss 0.48783692717552185 (lr=0.001)\n",
      "   Epoch 160 training loss 0.48618361353874207 (lr=0.001)\n",
      "   Epoch 170 training loss 0.4875020980834961 (lr=0.001)\n",
      "   Epoch 180 training loss 0.48892486095428467 (lr=0.001)\n",
      "   Epoch 190 training loss 0.4901924431324005 (lr=0.001)\n",
      "   Epoch 200 training loss 0.4915919005870819 (lr=0.001)\n",
      "   Epoch 210 training loss 0.4877315163612366 (lr=0.001)\n",
      "   Epoch 220 training loss 0.48782387375831604 (lr=0.001)\n",
      "   Epoch 230 training loss 0.48485878109931946 (lr=0.001)\n",
      "   Epoch 240 training loss 0.4811488389968872 (lr=0.001)\n",
      "   Epoch 250 training loss 0.48771747946739197 (lr=0.001)\n",
      "   Epoch 260 training loss 0.4851365387439728 (lr=0.001)\n",
      "   Epoch 270 training loss 0.48904019594192505 (lr=0.001)\n",
      "   Epoch 280 training loss 0.4879724979400635 (lr=0.001)\n",
      "   Epoch 290 training loss 0.4821300506591797 (lr=0.001)\n",
      "   Epoch 300 training loss 0.4906449019908905 (lr=0.001)\n",
      "   Epoch 310 training loss 0.4853237569332123 (lr=0.001)\n",
      "   Epoch 320 training loss 0.4894425570964813 (lr=0.001)\n",
      "   Epoch 330 training loss 0.48035889863967896 (lr=0.001)\n",
      "   Epoch 340 training loss 0.480383962392807 (lr=0.001)\n",
      "   Epoch 350 training loss 0.48657214641571045 (lr=0.001)\n",
      "   Epoch 360 training loss 0.48490604758262634 (lr=0.001)\n",
      "   Epoch 370 training loss 0.4874013662338257 (lr=0.001)\n",
      "   Epoch 380 training loss 0.48681968450546265 (lr=0.001)\n",
      "   Epoch 390 training loss 0.48802706599235535 (lr=0.001)\n",
      "   Epoch 400 training loss 0.4821024239063263 (lr=0.001)\n",
      "   Epoch 410 training loss 0.4868677258491516 (lr=0.001)\n",
      "   Epoch 420 training loss 0.4860391318798065 (lr=0.001)\n",
      "   Epoch 430 training loss 0.4859524667263031 (lr=0.001)\n",
      "   Epoch 440 training loss 0.4876500964164734 (lr=0.001)\n",
      "   Epoch 450 training loss 0.47864654660224915 (lr=0.001)\n",
      "   Epoch 460 training loss 0.483610063791275 (lr=0.001)\n",
      "   Epoch 470 training loss 0.48677536845207214 (lr=0.001)\n",
      "   Epoch 480 training loss 0.48136261105537415 (lr=0.001)\n",
      "   Epoch 490 training loss 0.48174452781677246 (lr=0.001)\n",
      "   Epoch 500 training loss 0.48274365067481995 (lr=0.001)\n",
      "   Epoch 510 training loss 0.48125937581062317 (lr=0.001)\n",
      "   Epoch 520 training loss 0.4838740825653076 (lr=0.001)\n",
      "   Epoch 530 training loss 0.49087196588516235 (lr=0.001)\n",
      "   Epoch 540 training loss 0.48733755946159363 (lr=0.001)\n",
      "   Epoch 550 training loss 0.48875439167022705 (lr=0.001)\n",
      "   Epoch 560 training loss 0.49001625180244446 (lr=0.001)\n",
      "   Epoch 570 training loss 0.48368558287620544 (lr=0.001)\n",
      "   Epoch 580 training loss 0.4856533408164978 (lr=0.001)\n",
      "   Epoch 590 training loss 0.4854353964328766 (lr=0.001)\n",
      "   Epoch 600 training loss 0.4774586856365204 (lr=0.001)\n",
      "   Epoch 610 training loss 0.4887162446975708 (lr=0.001)\n",
      "   Epoch 620 training loss 0.48047417402267456 (lr=0.001)\n",
      "   Epoch 630 training loss 0.48541030287742615 (lr=0.001)\n",
      "   Epoch 640 training loss 0.4829106032848358 (lr=0.001)\n",
      "   Epoch 650 training loss 0.4861924648284912 (lr=0.001)\n",
      "   Epoch 660 training loss 0.48638248443603516 (lr=0.001)\n",
      "   Epoch 670 training loss 0.4791715145111084 (lr=0.001)\n",
      "   Epoch 680 training loss 0.4896492063999176 (lr=0.001)\n",
      "   Epoch 690 training loss 0.4813920259475708 (lr=0.001)\n",
      "   Epoch 700 training loss 0.47892943024635315 (lr=0.001)\n",
      "   Epoch 710 training loss 0.4820096492767334 (lr=0.001)\n",
      "   Epoch 720 training loss 0.47878071665763855 (lr=0.001)\n",
      "   Epoch 730 training loss 0.4787651300430298 (lr=0.001)\n",
      "   Epoch 740 training loss 0.4792592525482178 (lr=0.001)\n",
      "   Epoch 750 training loss 0.47842806577682495 (lr=0.001)\n",
      "   Epoch 760 training loss 0.4786075949668884 (lr=0.001)\n",
      "   Epoch 770 training loss 0.4785396456718445 (lr=0.001)\n",
      "   Epoch 780 training loss 0.48370125889778137 (lr=0.001)\n",
      "   Epoch 790 training loss 0.4829002618789673 (lr=0.001)\n",
      "   Epoch 800 training loss 0.4811611473560333 (lr=0.001)\n",
      "   Epoch 810 training loss 0.48238521814346313 (lr=0.001)\n",
      "   Epoch 820 training loss 0.47935593128204346 (lr=0.001)\n",
      "   Epoch 830 training loss 0.4824717044830322 (lr=0.001)\n",
      "   Epoch 840 training loss 0.4822032153606415 (lr=0.001)\n",
      "   Epoch 850 training loss 0.4875061511993408 (lr=0.001)\n",
      "   Epoch 860 training loss 0.4797053933143616 (lr=0.001)\n",
      "   Epoch 870 training loss 0.4790700078010559 (lr=0.001)\n",
      "   Epoch 880 training loss 0.4838488698005676 (lr=0.001)\n",
      "   Epoch 890 training loss 0.4800202250480652 (lr=0.001)\n",
      "   Epoch 900 training loss 0.48040756583213806 (lr=0.001)\n",
      "   Epoch 910 training loss 0.47965550422668457 (lr=0.001)\n",
      "   Epoch 920 training loss 0.4798896908760071 (lr=0.001)\n",
      "   Epoch 930 training loss 0.47904980182647705 (lr=0.001)\n",
      "   Epoch 940 training loss 0.4824424982070923 (lr=0.001)\n",
      "   Epoch 950 training loss 0.4781908392906189 (lr=0.001)\n",
      "   Epoch 960 training loss 0.479582279920578 (lr=0.001)\n",
      "   Epoch 970 training loss 0.4808807373046875 (lr=0.001)\n",
      "   Epoch 980 training loss 0.4759237766265869 (lr=0.001)\n",
      "   Epoch 990 training loss 0.48135462403297424 (lr=0.001)\n",
      "Final:   Epoch 999 training loss 0.48055291175842285 (lr=0.001)\n"
     ]
    }
   ],
   "source": [
    "num_of_epochs = 1000\n",
    "loss_fn = torch.nn.CrossEntropyLoss()\n",
    "optimizer = torch.optim.Adam(model.parameters(), lr=0.01)\n",
    "scheduler = lr_scheduler.MultiStepLR(optimizer, milestones=[100], gamma=0.1)\n",
    "model.train()\n",
    "for n in range(num_of_epochs):\n",
    "    running_loss = 0.0\n",
    "    X_in = X_tr.long()\n",
    "    Y_in = Y_tr[:-1,:].long()\n",
    "    Y_out = Y_tr[1:,:].long()\n",
    "    Y_pred = model(X_in,Y_in)\n",
    "    # seq len x num samples => num samples x seq len\n",
    "    Y_out = Y_out.permute(1,0)\n",
    "    # seq len x num samples x token one hot => num samples x token one hot x seq len\n",
    "    Y_pred = Y_pred.permute(1, 2, 0)\n",
    "    loss = loss_fn(Y_pred,Y_out)\n",
    "\n",
    "    optimizer.zero_grad()\n",
    "    loss.backward()\n",
    "    optimizer.step()\n",
    "    running_loss += loss.item()\n",
    "    scheduler.step()\n",
    "    if n % 10 == 0:\n",
    "        print(f'   Epoch {n} training loss {running_loss} (lr={optimizer.param_groups[0][\"lr\"]})')\n",
    "print(f'Final:   Epoch {n} training loss {running_loss} (lr={optimizer.param_groups[0][\"lr\"]})')"
   ]
  },
  {
   "cell_type": "markdown",
   "id": "62eb1d68-0eb3-49a5-9fb9-a516cc19b91e",
   "metadata": {},
   "source": [
    "Function for predicting values"
   ]
  },
  {
   "cell_type": "code",
   "execution_count": 635,
   "id": "26835699-7457-4dd3-ac12-cfecafb33d1d",
   "metadata": {},
   "outputs": [],
   "source": [
    "def predict(model, input_sequence, max_length=16, SOS_token=2, EOS_token=3, EOS_plus = 2):\n",
    "\n",
    "    model.eval()\n",
    "    \n",
    "    y_input = torch.tensor([SOS_token], dtype=torch.long)\n",
    "\n",
    "    sos_found = False\n",
    "    for _ in range(max_length):\n",
    "        #print(f'X={input_sequence} Y={y_input}')\n",
    "\n",
    "    \n",
    "        pred = model(input_sequence, y_input)\n",
    "\n",
    "        pred_tokens = torch.argmax(pred, dim=1)\n",
    "\n",
    "        y_input = torch.cat((torch.tensor([SOS_token], dtype=torch.long), pred_tokens), dim=0)\n",
    "\n",
    "        if pred_tokens[-1] == EOS_token:\n",
    "            break\n",
    "\n",
    "    return y_input.tolist()"
   ]
  },
  {
   "cell_type": "code",
   "execution_count": 636,
   "id": "da8dbfc1-96a2-43bf-a4cc-48bd07eb4ecf",
   "metadata": {},
   "outputs": [
    {
     "name": "stdout",
     "output_type": "stream",
     "text": [
      "Example 0\n",
      "Input sequence: [1, 1, 1, 1]\n",
      "Output (predicted) sequence: [0, 0, 0, 0, 0, 0, 0, 0, 0, 0, 0, 0, 0, 0, 0]\n",
      "\n",
      "Example 1\n",
      "Input sequence: [0, 0, 0, 0]\n",
      "Output (predicted) sequence: [0]\n",
      "\n",
      "Example 2\n",
      "Input sequence: [1, 1, 1]\n",
      "Output (predicted) sequence: [0, 0, 0, 0, 0, 0, 0, 0, 0, 0, 0, 0, 0, 0, 0]\n",
      "\n",
      "Example 3\n",
      "Input sequence: [0, 0, 0]\n",
      "Output (predicted) sequence: [0]\n",
      "\n",
      "Example 4\n",
      "Input sequence: [1]\n",
      "Output (predicted) sequence: [0, 0, 0, 0, 0, 0, 0, 0, 0, 0, 0, 0, 0, 0, 0]\n",
      "\n",
      "Example 5\n",
      "Input sequence: [0]\n",
      "Output (predicted) sequence: [0, 0, 0, 0, 0, 0, 0, 0, 0, 0, 0, 0, 0, 0, 0]\n",
      "\n"
     ]
    }
   ],
   "source": [
    "# Here we test some examples to observe how the model predicts\n",
    "examples = [\n",
    "    torch.tensor([2,1, 1, 1, 1,3], dtype=torch.long),\n",
    "    torch.tensor([2,0, 0, 0, 0,3], dtype=torch.long),\n",
    "    torch.tensor([2, 1, 1, 1, 3], dtype=torch.long),\n",
    "    torch.tensor([2, 0, 0, 0, 3], dtype=torch.long),\n",
    "    torch.tensor([2, 1, 3], dtype=torch.long),\n",
    "    torch.tensor([2, 0, 3], dtype=torch.long)\n",
    "]\n",
    "\n",
    "for idx, example in enumerate(examples):\n",
    "    result = predict(model, example)\n",
    "    print(f\"Example {idx}\")\n",
    "    print(f\"Input sequence: {example.view(-1).tolist()[1:-1]}\")\n",
    "    print(f\"Output (predicted) sequence: {result[1:-1]}\")\n",
    "    print()"
   ]
  },
  {
   "cell_type": "markdown",
   "id": "b99557f0-1efe-4932-a12f-18984f30ba71",
   "metadata": {},
   "source": [
    "**Findings**\n",
    "\n",
    "Interestingly, the ```TokenTransformer``` architecture learns to map long sequences to short, e.g., 0,0,0,0 -> 1 and 1,1,1,1 -> 0 , but not short sequences to long, e.g., 0 -> 1,1,1,1 and 1 -> 0,0,0,0.\n",
    "\n",
    "The problem is that we train it incorrectly.\n",
    "\n",
    "SimpleTransformer is trained with full sequences\n",
    "\n",
    " * SOS,1,EOS -> SOS,0,0,0,0,EOS\n",
    " * SOS,0,EOS -> SOS,1,1,1,1,EOS\n",
    "\n",
    " BUT during inference it only knows the input and what is generated so far\n",
    "\n",
    " * (SOS,1,EOS),(SOS) -> 0\n",
    " * (SOS,1,EOS),(SOS,0) -> 0,0\n",
    " * (SOS,1,EOS),(SOS,0,0) -> 0,0,0\n",
    " * (SOS,1,EOS),(SOS,0,0,0) -> 0,0,0,0\n",
    " * (SOS,1,EOS),(SOS,0,0,0,0) -> 0,0,0,0,EOS\n",
    "\n",
    "This means that inference is different from training, and especially in the short-to-long case.\n",
    "\n",
    "This can be fixed by **masking** the future outputs during taining. After this little extension the transformer is already pretty powerful model."
   ]
  },
  {
   "cell_type": "markdown",
   "id": "6eb7761d-f0df-4d33-8dd4-86a10043aa2f",
   "metadata": {},
   "source": [
    "## MaskedTokenTransformer - Masking the future outputs during training and inference\n",
    "\n",
    "```SimpleTransformer```was able to learn to produce a single output from multiple, but not multiple outputs from single. The main reason for that is that there is discrepancy between the training data and test data. During training it was aware of the full future, i.e., its task was to learn to produce a missing token in the following cases\n",
    "\n",
    " * SOS,1,EOS -> SOS,?,0,0,,EOS\n",
    " * SOS,1,EOS -> SOS,0,?,0,EOS\n",
    " * SOS,1,EOS -> SOS,0,0,?,EOS\n",
    " * SOS,1,EOS -> SOS,0,0,0,?\n",
    "\n",
    "while during testin the 'future' outputs are not known and the problem is actually\n",
    "\n",
    "\n",
    " * SOS,1,EOS -> SOS,?\n",
    " * SOS,1,EOS -> SOS,0,?\n",
    " * SOS,1,EOS -> SOS,0,0,?\n",
    " * SOS,1,EOS -> SOS,0,0,0,?\n",
    "\n",
    "which is different from the training. Note that in the many-to-one case training and test cases are almost identical and that is why it worked.\n",
    "\n",
    "**Solution:** During training we need to mask the future outputs. There is a pre-made Torch function for that"
   ]
  },
  {
   "cell_type": "code",
   "execution_count": 655,
   "id": "423ce223-4f6b-47a5-9421-ada9845ef096",
   "metadata": {
    "scrolled": true
   },
   "outputs": [
    {
     "name": "stdout",
     "output_type": "stream",
     "text": [
      "tensor([[0., -inf, -inf, -inf, -inf],\n",
      "        [0., 0., -inf, -inf, -inf],\n",
      "        [0., 0., 0., -inf, -inf],\n",
      "        [0., 0., 0., 0., -inf],\n",
      "        [0., 0., 0., 0., 0.]])\n"
     ]
    }
   ],
   "source": [
    "sequence_length = 5\n",
    "tgt_mask = nn.Transformer.generate_square_subsequent_mask(sequence_length)\n",
    "print(tgt_mask)"
   ]
  },
  {
   "cell_type": "markdown",
   "id": "20cd6a41-7c34-4d51-9154-263939ebdd88",
   "metadata": {},
   "source": [
    "Let's define ```MaskedTokenTransformer``` that supports masking."
   ]
  },
  {
   "cell_type": "code",
   "execution_count": 656,
   "id": "bd2b5720-17f3-4df4-9991-337049b735fe",
   "metadata": {},
   "outputs": [],
   "source": [
    "class MaskedTokenTransformer(nn.Module):\n",
    "    # Constructor\n",
    "    def __init__(\n",
    "        self,\n",
    "        num_tokens,\n",
    "        d_model,\n",
    "        nhead,\n",
    "        num_encoder_layers,\n",
    "        num_decoder_layers,\n",
    "        dim_feedforward,\n",
    "        dropout_p,\n",
    "        layer_norm_eps\n",
    "    ):\n",
    "        super().__init__()\n",
    "\n",
    "        self.d_model = d_model\n",
    "        \n",
    "        # Token embedding layer - this takes care of converting integer to vectors\n",
    "        self.embedding = nn.Embedding(num_tokens, d_model)\n",
    "\n",
    "        # Token \"unembedding\" to one-hot token vector\n",
    "        self.unembedding = nn.Linear(d_model, num_tokens)\n",
    "\n",
    "        self.transformer = nn.Transformer(\n",
    "            d_model = d_model,\n",
    "            nhead = nhead,\n",
    "            num_encoder_layers = num_encoder_layers,\n",
    "            num_decoder_layers = num_decoder_layers,\n",
    "            dim_feedforward = dim_feedforward,\n",
    "            dropout = dropout_p,\n",
    "            layer_norm_eps = layer_norm_eps,\n",
    "            norm_first = True\n",
    "        )\n",
    "\n",
    "    def forward(\n",
    "        self,\n",
    "        src,\n",
    "        tgt,\n",
    "        tgt_mask = None\n",
    "    ):\n",
    "        # Note: src & tgt default size is (seq_length, batch_num, feat_dim)\n",
    "\n",
    "        # Token embedding\n",
    "        src = self.embedding(src) * math.sqrt(self.d_model)\n",
    "        tgt = self.embedding(tgt) * math.sqrt(self.d_model)        \n",
    "\n",
    "        # Transformer output\n",
    "        out = self.transformer(src, tgt, tgt_mask=tgt_mask)\n",
    "        out = self.unembedding(out)\n",
    "        \n",
    "        return out"
   ]
  },
  {
   "cell_type": "code",
   "execution_count": 657,
   "id": "3a7985bf-f5a8-41cf-9054-fef82a8ac66b",
   "metadata": {},
   "outputs": [
    {
     "name": "stdout",
     "output_type": "stream",
     "text": [
      "The model has 1332 parameters (1332 trainable)\n"
     ]
    }
   ],
   "source": [
    "model = MaskedTokenTransformer(num_tokens = 4, d_model = 8, nhead = 1, num_encoder_layers = 1, num_decoder_layers = 1, dim_feedforward = 8, dropout_p = 0.1, layer_norm_eps = 1e-05)\n",
    "\n",
    "#print(model)\n",
    "print(f'The model has {sum(p.numel() for p in model.parameters())} parameters ({sum(p.numel() for p in model.parameters() if p.requires_grad)} trainable)')"
   ]
  },
  {
   "cell_type": "code",
   "execution_count": 661,
   "id": "9dc01f14-e1a4-453b-82fb-ee685412af9f",
   "metadata": {},
   "outputs": [
    {
     "name": "stdout",
     "output_type": "stream",
     "text": [
      "   Epoch 0 training loss 0.11983377486467361 (lr=0.01)\n",
      "   Epoch 100 training loss 0.10091931372880936 (lr=0.01)\n",
      "   Epoch 200 training loss 0.11351504176855087 (lr=0.01)\n",
      "   Epoch 300 training loss 0.10676158964633942 (lr=0.01)\n",
      "   Epoch 400 training loss 0.10426504164934158 (lr=0.01)\n",
      "   Epoch 500 training loss 0.07001972943544388 (lr=0.001)\n",
      "   Epoch 600 training loss 0.062061261385679245 (lr=0.001)\n",
      "   Epoch 700 training loss 0.061617735773324966 (lr=0.001)\n",
      "   Epoch 800 training loss 0.06081848964095116 (lr=0.001)\n",
      "   Epoch 900 training loss 0.10773022472858429 (lr=0.001)\n",
      "   Epoch 1000 training loss 0.08385518193244934 (lr=0.001)\n",
      "   Epoch 1100 training loss 0.08958876878023148 (lr=0.001)\n",
      "   Epoch 1200 training loss 0.074769526720047 (lr=0.001)\n",
      "   Epoch 1300 training loss 0.052771616727113724 (lr=0.001)\n",
      "   Epoch 1400 training loss 0.08378324657678604 (lr=0.001)\n",
      "   Epoch 1500 training loss 0.11201096326112747 (lr=0.001)\n",
      "   Epoch 1600 training loss 0.09756787121295929 (lr=0.001)\n",
      "   Epoch 1700 training loss 0.06168530881404877 (lr=0.001)\n",
      "   Epoch 1800 training loss 0.047225113958120346 (lr=0.001)\n",
      "   Epoch 1900 training loss 0.04650168865919113 (lr=0.001)\n",
      "Final:   Epoch 1999 training loss 0.06540899723768234 (lr=0.001)\n"
     ]
    }
   ],
   "source": [
    "num_of_epochs = 2000\n",
    "loss_fn = torch.nn.CrossEntropyLoss()\n",
    "optimizer = torch.optim.Adam(model.parameters(), lr=0.01)\n",
    "scheduler = lr_scheduler.MultiStepLR(optimizer, milestones=[500], gamma=0.1)\n",
    "model.train()\n",
    "for n in range(num_of_epochs):\n",
    "    running_loss = 0.0\n",
    "    X_in = X_tr.long()\n",
    "    Y_in = Y_tr[:-1,:].long()\n",
    "    Y_out = Y_tr[1:,:].long()\n",
    "\n",
    "    # Get mask to mask out the next words\n",
    "    sequence_length = Y_in.size(0)\n",
    "    tgt_mask = nn.Transformer.generate_square_subsequent_mask(sequence_length)\n",
    "    \n",
    "    Y_pred = model(X_in,Y_in, tgt_mask = tgt_mask)\n",
    "\n",
    "    # seq len x num samples => num samples x seq len\n",
    "    Y_out = Y_out.permute(1,0)\n",
    "    # seq len x num samples x token one hot => num samples x token one hot x seq len    \n",
    "    Y_pred = Y_pred.permute(1, 2, 0)\n",
    "    loss = loss_fn(Y_pred,Y_out)\n",
    "\n",
    "    optimizer.zero_grad()\n",
    "    loss.backward()\n",
    "    optimizer.step()\n",
    "    running_loss += loss.item()\n",
    "    scheduler.step()\n",
    "    if n % 100 == 0:\n",
    "        print(f'   Epoch {n} training loss {running_loss} (lr={optimizer.param_groups[0][\"lr\"]})')\n",
    "print(f'Final:   Epoch {n} training loss {running_loss} (lr={optimizer.param_groups[0][\"lr\"]})')"
   ]
  },
  {
   "cell_type": "markdown",
   "id": "fcbc1c45-b4e9-4ea0-be1e-4a40bb47466b",
   "metadata": {},
   "source": [
    "**Inference** must be updated as well for nn.Transformer since it re-produces all outputs sequentially, but without masking it \"sees\" the future that was not anymore allowed in training. \n"
   ]
  },
  {
   "cell_type": "code",
   "execution_count": 659,
   "id": "498d0f25-7161-427e-aa50-94ce6863e1e5",
   "metadata": {},
   "outputs": [],
   "source": [
    "def predict(model, input_sequence, max_length=16, SOS_token=2, EOS_token=3, EOS_plus = 2):\n",
    "\n",
    "    model.eval()\n",
    "    \n",
    "    y_input = torch.tensor([SOS_token], dtype=torch.long)\n",
    "\n",
    "    sos_found = False\n",
    "    for _ in range(max_length):\n",
    "        #print(f'X={input_sequence} Y={y_input}')\n",
    "\n",
    "        sequence_length = len(y_input)\n",
    "        tgt_mask = nn.Transformer.generate_square_subsequent_mask(sequence_length)\n",
    "    \n",
    "        pred = model(input_sequence, y_input, tgt_mask = tgt_mask)\n",
    "\n",
    "        pred_tokens = torch.argmax(pred, dim=1)\n",
    "\n",
    "        y_input = torch.cat((torch.tensor([SOS_token], dtype=torch.long), pred_tokens), dim=0)\n",
    "\n",
    "        if pred_tokens[-1] == EOS_token:\n",
    "            break\n",
    "\n",
    "    return y_input.tolist()"
   ]
  },
  {
   "cell_type": "code",
   "execution_count": 662,
   "id": "a5c5d8f3-f3bb-4516-b682-0960a10802b2",
   "metadata": {},
   "outputs": [
    {
     "name": "stdout",
     "output_type": "stream",
     "text": [
      "Example 0\n",
      "Input: [1, 1, 1]\n",
      "Continuation: [0, 0, 0]\n",
      "\n",
      "Example 1\n",
      "Input: [0, 0, 0]\n",
      "Continuation: [1, 1, 1]\n",
      "\n",
      "Example 2\n",
      "Input: [1]\n",
      "Continuation: [0, 0, 0]\n",
      "\n",
      "Example 3\n",
      "Input: [0]\n",
      "Continuation: [1, 1, 1]\n",
      "\n"
     ]
    }
   ],
   "source": [
    "# Here we test some examples to observe how the model predicts\n",
    "examples = [\n",
    "    torch.tensor([2, 1, 1, 1, 3], dtype=torch.long),\n",
    "    torch.tensor([2, 0, 0, 0, 3], dtype=torch.long),\n",
    "    torch.tensor([2, 1, 3], dtype=torch.long),\n",
    "    torch.tensor([2, 0, 3], dtype=torch.long)\n",
    "]\n",
    "\n",
    "for idx, example in enumerate(examples):\n",
    "    result = predict(model, example)\n",
    "    print(f\"Example {idx}\")\n",
    "    print(f\"Input: {example.view(-1).tolist()[1:-1]}\")\n",
    "    print(f\"Continuation: {result[1:-1]}\")\n",
    "    print()"
   ]
  },
  {
   "cell_type": "markdown",
   "id": "cffde892-abee-410f-a663-e0228ffb5edf",
   "metadata": {},
   "source": [
    "Let's try something different - how about learning how to continue a sequence\n",
    "\n",
    "* sos,0,1,0,1,eos $\\rightarrow$ sos,0,1,0,1,eos\n",
    "* sos,1,0,1,0,eos $\\rightarrow$ sos,1,0,1,0,eos\n",
    "\n",
    "The above looks simple enough so that ```MaskedTokenTransformer```should be able to learn it now that it can process sequences correctly"
   ]
  },
  {
   "cell_type": "code",
   "execution_count": 663,
   "id": "c176c421-0018-42fc-a4c0-abf94037554b",
   "metadata": {},
   "outputs": [],
   "source": [
    "def generate_data4(n):\n",
    "    SOS_token = np.array([2])\n",
    "    EOS_token = np.array([3])\n",
    "\n",
    "    data = []\n",
    "\n",
    "    # 1 -> 0,0,0,0 \n",
    "    for i in range(n // 2):\n",
    "        X = np.concatenate((SOS_token, [0, 1, 0, 1], EOS_token))\n",
    "        y = np.concatenate((SOS_token, [0, 1, 0, 1], EOS_token))\n",
    "        data.append([X, y])\n",
    "\n",
    "    # 1 -> 1,1,1,1 \n",
    "    for i in range(n // 2):\n",
    "        X = np.concatenate((SOS_token, [1, 0, 1, 0], EOS_token))\n",
    "        y = np.concatenate((SOS_token, [1, 0, 1, 0], EOS_token))\n",
    "        data.append([X, y])\n",
    "\n",
    "    np.random.shuffle(data)\n",
    "\n",
    "    return data"
   ]
  },
  {
   "cell_type": "code",
   "execution_count": 664,
   "id": "b925b448-f20c-4c35-a38a-02a1a6cd7051",
   "metadata": {},
   "outputs": [
    {
     "name": "stdout",
     "output_type": "stream",
     "text": [
      "[2 0 1 0 1 3]\n",
      "[2 0 1 0 1 3]\n",
      "[2 1 0 1 0 3]\n",
      "[2 1 0 1 0 3]\n",
      "[2 0 1 0 1 3]\n",
      "[2 0 1 0 1 3]\n"
     ]
    }
   ],
   "source": [
    "tr_data = generate_data4(100)\n",
    "\n",
    "print(tr_data[0][0])\n",
    "print(tr_data[0][1])\n",
    "\n",
    "print(tr_data[1][0])\n",
    "print(tr_data[1][1])\n",
    "\n",
    "print(tr_data[2][0])\n",
    "print(tr_data[2][1])"
   ]
  },
  {
   "cell_type": "code",
   "execution_count": 665,
   "id": "ce60c673-0b1f-405a-8c8d-d6901c81f4ec",
   "metadata": {},
   "outputs": [
    {
     "name": "stdout",
     "output_type": "stream",
     "text": [
      "torch.Size([6, 100])\n",
      "tensor([2., 0., 1., 0., 1., 3.])\n",
      "tensor([2., 0., 1., 0., 1., 3.])\n",
      "tensor([2., 1., 0., 1., 0., 3.])\n",
      "tensor([2., 1., 0., 1., 0., 3.])\n",
      "tensor([2., 0., 1., 0., 1., 3.])\n",
      "tensor([2., 0., 1., 0., 1., 3.])\n"
     ]
    }
   ],
   "source": [
    "X_tr = torch.empty((len(tr_data[0][0]),len(tr_data)))\n",
    "Y_tr = torch.empty((len(tr_data[0][1]),len(tr_data)))\n",
    "for ids, s in enumerate(tr_data):\n",
    "    X_tr[:,ids] = torch.from_numpy(s[0])\n",
    "    Y_tr[:,ids] = torch.from_numpy(s[1])\n",
    "print(X_tr.shape)\n",
    "\n",
    "print(X_tr[:,0])\n",
    "print(Y_tr[:,0])\n",
    "\n",
    "print(X_tr[:,1])\n",
    "print(Y_tr[:,1])\n",
    "\n",
    "print(X_tr[:,2])\n",
    "print(Y_tr[:,2])"
   ]
  },
  {
   "cell_type": "code",
   "execution_count": 666,
   "id": "289add26-c228-46b2-8bdf-5151e5953ffe",
   "metadata": {},
   "outputs": [
    {
     "name": "stdout",
     "output_type": "stream",
     "text": [
      "The model has 1332 parameters (1332 trainable)\n"
     ]
    }
   ],
   "source": [
    "model = MaskedTokenTransformer(num_tokens = 4, d_model = 8, nhead = 1, num_encoder_layers = 1, num_decoder_layers = 1, dim_feedforward = 8, dropout_p = 0.1, layer_norm_eps = 1e-05)\n",
    "\n",
    "#print(model)\n",
    "print(f'The model has {sum(p.numel() for p in model.parameters())} parameters ({sum(p.numel() for p in model.parameters() if p.requires_grad)} trainable)')"
   ]
  },
  {
   "cell_type": "code",
   "execution_count": 667,
   "id": "e056bbb0-f801-4290-bf7b-07adcd961868",
   "metadata": {},
   "outputs": [
    {
     "name": "stdout",
     "output_type": "stream",
     "text": [
      "   Epoch 0 training loss 1.801745891571045 (lr=0.01)\n",
      "   Epoch 100 training loss 0.39194977283477783 (lr=0.01)\n",
      "   Epoch 200 training loss 0.3056986927986145 (lr=0.01)\n",
      "   Epoch 300 training loss 0.27418968081474304 (lr=0.01)\n",
      "   Epoch 400 training loss 0.35172125697135925 (lr=0.01)\n",
      "   Epoch 500 training loss 0.27983757853507996 (lr=0.001)\n",
      "   Epoch 600 training loss 0.30059391260147095 (lr=0.001)\n",
      "   Epoch 700 training loss 0.2824311852455139 (lr=0.001)\n",
      "   Epoch 800 training loss 0.2549617290496826 (lr=0.001)\n",
      "   Epoch 900 training loss 0.2720971405506134 (lr=0.001)\n",
      "   Epoch 1000 training loss 0.2686491012573242 (lr=0.001)\n",
      "   Epoch 1100 training loss 0.24036626517772675 (lr=0.001)\n",
      "   Epoch 1200 training loss 0.21859684586524963 (lr=0.001)\n",
      "   Epoch 1300 training loss 0.2542782723903656 (lr=0.001)\n",
      "   Epoch 1400 training loss 0.24519646167755127 (lr=0.001)\n",
      "   Epoch 1500 training loss 0.2514984905719757 (lr=0.001)\n",
      "   Epoch 1600 training loss 0.26854208111763 (lr=0.001)\n",
      "   Epoch 1700 training loss 0.21955490112304688 (lr=0.001)\n",
      "   Epoch 1800 training loss 0.20639581978321075 (lr=0.001)\n",
      "   Epoch 1900 training loss 0.23601166903972626 (lr=0.001)\n",
      "Final:   Epoch 1999 training loss 0.21202214062213898 (lr=0.001)\n"
     ]
    }
   ],
   "source": [
    "num_of_epochs = 2000\n",
    "loss_fn = torch.nn.CrossEntropyLoss()\n",
    "optimizer = torch.optim.Adam(model.parameters(), lr=0.01)\n",
    "scheduler = lr_scheduler.MultiStepLR(optimizer, milestones=[500], gamma=0.1)\n",
    "model.train()\n",
    "for n in range(num_of_epochs):\n",
    "    running_loss = 0.0\n",
    "    X_in = X_tr.long()\n",
    "    Y_in = Y_tr[:-1,:].long()\n",
    "    Y_out = Y_tr[1:,:].long()\n",
    "\n",
    "    # Get mask to mask out the next words\n",
    "    sequence_length = Y_in.size(0)\n",
    "    tgt_mask = nn.Transformer.generate_square_subsequent_mask(sequence_length)\n",
    "    \n",
    "    Y_pred = model(X_in,Y_in, tgt_mask = tgt_mask)\n",
    "\n",
    "    # seq len x num samples => num samples x seq len\n",
    "    Y_out = Y_out.permute(1,0)\n",
    "    # seq len x num samples x token one hot => num samples x token one hot x seq len    \n",
    "    Y_pred = Y_pred.permute(1, 2, 0)\n",
    "    loss = loss_fn(Y_pred,Y_out)\n",
    "\n",
    "    optimizer.zero_grad()\n",
    "    loss.backward()\n",
    "    optimizer.step()\n",
    "    running_loss += loss.item()\n",
    "    scheduler.step()\n",
    "    if n % 100 == 0:\n",
    "        print(f'   Epoch {n} training loss {running_loss} (lr={optimizer.param_groups[0][\"lr\"]})')\n",
    "print(f'Final:   Epoch {n} training loss {running_loss} (lr={optimizer.param_groups[0][\"lr\"]})')"
   ]
  },
  {
   "cell_type": "code",
   "execution_count": 668,
   "id": "dbb19d7a-6696-45df-9275-185847574c2e",
   "metadata": {},
   "outputs": [
    {
     "name": "stdout",
     "output_type": "stream",
     "text": [
      "Example 0\n",
      "Input: [0, 1, 0, 1]\n",
      "Continuation: [1, 0, 1]\n",
      "\n",
      "Example 1\n",
      "Input: [1, 0, 1, 0]\n",
      "Continuation: [1, 0, 1]\n",
      "\n"
     ]
    }
   ],
   "source": [
    "# Here we test some examples to observe how the model predicts\n",
    "examples = [\n",
    "    torch.tensor([2, 0, 1, 0, 1, 3], dtype=torch.long),\n",
    "    torch.tensor([2, 1, 0, 1, 0, 3], dtype=torch.long),\n",
    "]\n",
    "\n",
    "for idx, example in enumerate(examples):\n",
    "    result = predict(model, example)\n",
    "    print(f\"Example {idx}\")\n",
    "    print(f\"Input: {example.view(-1).tolist()[1:-1]}\")\n",
    "    print(f\"Continuation: {result[1:-1]}\")\n",
    "    print()"
   ]
  },
  {
   "cell_type": "markdown",
   "id": "cd177d52-f21a-49fc-bf8e-fc14c06ba497",
   "metadata": {},
   "source": [
    "**Findings**\n",
    "\n",
    "Despite of its power ```MaskedTokenTransformer``` to predict future from past tokes, is not able to learn simple sequence continuation such as 0,1,0,1 -> 0,1,0,1 and 1,0,1,0 -> 1,0,1,0.\n",
    "\n",
    "The reason is that the embeddings for the tokens 0 and 1 are the same, and correlation between them and any other token is the same despite of their position. \n",
    "\n",
    "In order to fix this problem we need to make Transformer aware about the position of each token. That can be done by\n",
    "\n",
    " * Positional encoding\n"
   ]
  },
  {
   "cell_type": "markdown",
   "id": "2c3e8703-0c6d-4117-8626-c1ce7fc3da24",
   "metadata": {},
   "source": [
    "## Transformer - Positional encoding is the last missing ingredient\n",
    "\n",
    "Positional encoding example was given in torch.nn.Transformer tutorial which has now however disappeared. Kindly someone posted it here:\n",
    "\n",
    " * https://github.com/pytorch/pytorch/issues/51551\n",
    "\n",
    "so let's use that one"
   ]
  },
  {
   "cell_type": "code",
   "execution_count": 669,
   "id": "228605ac-d123-4376-8791-df44cc011280",
   "metadata": {},
   "outputs": [],
   "source": [
    "class PositionalEncoding(nn.Module):\n",
    "    r\"\"\"Inject some information about the relative or absolute position of the tokens\n",
    "        in the sequence. The positional encodings have the same dimension as\n",
    "        the embeddings, so that the two can be summed. Here, we use sine and cosine\n",
    "        functions of different frequencies.\n",
    "    .. math::\n",
    "        \\text{PosEncoder}(pos, 2i) = sin(pos/10000^(2i/d_model))\n",
    "        \\text{PosEncoder}(pos, 2i+1) = cos(pos/10000^(2i/d_model))\n",
    "        \\text{where pos is the word position and i is the embed idx)\n",
    "    Args:\n",
    "        d_model: the embed dim (required).\n",
    "        dropout: the dropout value (default=0.1).\n",
    "        max_len: the max. length of the incoming sequence (default=5000).\n",
    "    Examples:\n",
    "        >>> pos_encoder = PositionalEncoding(d_model)\n",
    "    \"\"\"\n",
    "\n",
    "    def __init__(self, d_model, dropout=0.1, max_len=5000):\n",
    "        super(PositionalEncoding, self).__init__()\n",
    "        self.dropout = nn.Dropout(p=dropout)\n",
    "\n",
    "        pe = torch.zeros(max_len, d_model)\n",
    "        position = torch.arange(0, max_len, dtype=torch.float).unsqueeze(1)\n",
    "        div_term = torch.exp(torch.arange(0, d_model, 2).float() * (-math.log(10000.0) / d_model))\n",
    "        pe[:, 0::2] = torch.sin(position * div_term)\n",
    "        pe[:, 1::2] = torch.cos(position * div_term)\n",
    "        pe = pe.unsqueeze(0).transpose(0, 1)\n",
    "        self.register_buffer('pe', pe)\n",
    "\n",
    "    def forward(self, x):\n",
    "        r\"\"\"Inputs of forward function\n",
    "        Args:\n",
    "            x: the sequence fed to the positional encoder model (required).\n",
    "        Shape:\n",
    "            x: [sequence length, batch size, embed dim]\n",
    "            output: [sequence length, batch size, embed dim]\n",
    "        Examples:\n",
    "            >>> output = pos_encoder(x)\n",
    "        \"\"\"\n",
    "\n",
    "        x = x + self.pe[:x.size(0), :]\n",
    "        return self.dropout(x)"
   ]
  },
  {
   "cell_type": "markdown",
   "id": "60ebe7d4-e428-4d43-84c2-7fd29c12a8eb",
   "metadata": {},
   "source": [
    "The code shows that the encoding is additive so by inputting zero vectors we see how it works."
   ]
  },
  {
   "cell_type": "code",
   "execution_count": 670,
   "id": "39f78502-1d1b-463f-832d-46121e6477e2",
   "metadata": {},
   "outputs": [
    {
     "data": {
      "image/png": "[encoded data removed]",
      "text/plain": [
       "<Figure size 640x480 with 1 Axes>"
      ]
     },
     "metadata": {},
     "output_type": "display_data"
    }
   ],
   "source": [
    "foo_x = torch.zeros((3,1,8))\n",
    "foo_encoding = PositionalEncoding(8)\n",
    "foo_x_enc = foo_encoding(foo_x)\n",
    "\n",
    "plt.plot(np.squeeze(foo_x_enc[0,0,:]).t(),'k-',label = '1')\n",
    "plt.plot(np.squeeze(foo_x_enc[1,0,:]).t(),'r--',label = '2')\n",
    "#plt.plot(np.squeeze(foo_x_enc[9,0,:]).t(),'g.-',label = '10')\n",
    "plt.legend()\n",
    "plt.savefig('posencoding.png',bbox_inches = 'tight')"
   ]
  },
  {
   "cell_type": "code",
   "execution_count": 672,
   "id": "265feeff-dddf-407b-a2f5-3c767499cc02",
   "metadata": {},
   "outputs": [],
   "source": [
    "class Seq2SeqTransformer(nn.Module):\n",
    "    # Constructor\n",
    "    def __init__(\n",
    "        self,\n",
    "        num_tokens,\n",
    "        d_model,\n",
    "        nhead,\n",
    "        num_encoder_layers,\n",
    "        num_decoder_layers,\n",
    "        dim_feedforward,\n",
    "        dropout_p,\n",
    "        layer_norm_eps\n",
    "    ):\n",
    "        super().__init__()\n",
    "\n",
    "        self.d_model = d_model\n",
    "        \n",
    "        # Token embedding layer - this takes care of converting integer to vectors\n",
    "        self.embedding = nn.Embedding(num_tokens, d_model)\n",
    "\n",
    "        # Token \"unembedding\" to one-hot token vector\n",
    "        self.unembedding = nn.Linear(d_model, num_tokens)\n",
    "\n",
    "        # Positional encoding\n",
    "        self.positional_encoder = PositionalEncoding(d_model=d_model, dropout=dropout_p)\n",
    "\n",
    "        # nn.Transformer that does the magic\n",
    "        self.transformer = nn.Transformer(\n",
    "            d_model = d_model,\n",
    "            nhead = nhead,\n",
    "            num_encoder_layers = num_encoder_layers,\n",
    "            num_decoder_layers = num_decoder_layers,\n",
    "            dim_feedforward = dim_feedforward,\n",
    "            dropout = dropout_p,\n",
    "            layer_norm_eps = layer_norm_eps,\n",
    "            norm_first = True\n",
    "        )\n",
    "\n",
    "    def forward(\n",
    "        self,\n",
    "        src,\n",
    "        tgt,\n",
    "        tgt_mask = None\n",
    "    ):\n",
    "        # Note: src & tgt default size is (seq_length, batch_num, feat_dim)\n",
    "\n",
    "        # Token embedding\n",
    "        src = self.embedding(src) * math.sqrt(self.d_model)\n",
    "        tgt = self.embedding(tgt) * math.sqrt(self.d_model)\n",
    "\n",
    "        # Positional encoding - this is sensitive that data _must_ be seq len x batch num x feat dim\n",
    "        # Inference often misses the batch num\n",
    "        if src.dim() == 2: # seq len x feat dim\n",
    "            src = torch.unsqueeze(src,1) \n",
    "        src = self.positional_encoder(src)\n",
    "        if tgt.dim() == 2: # seq len x feat dim\n",
    "            tgt = torch.unsqueeze(tgt,1) \n",
    "        tgt = self.positional_encoder(tgt)\n",
    "\n",
    "        # Transformer output\n",
    "        out = self.transformer(src, tgt, tgt_mask=tgt_mask)\n",
    "        out = self.unembedding(out)\n",
    "        \n",
    "        return out"
   ]
  },
  {
   "cell_type": "code",
   "execution_count": 673,
   "id": "5ba01145-105a-4094-b491-bd713a90b208",
   "metadata": {},
   "outputs": [
    {
     "name": "stdout",
     "output_type": "stream",
     "text": [
      "The model has 1332 parameters (1332 trainable)\n"
     ]
    }
   ],
   "source": [
    "model = Seq2SeqTransformer(num_tokens = 4, d_model = 8, nhead = 1, num_encoder_layers = 1, num_decoder_layers = 1, dim_feedforward = 8, dropout_p = 0.1, layer_norm_eps = 1e-05)\n",
    "\n",
    "#print(model)\n",
    "print(f'The model has {sum(p.numel() for p in model.parameters())} parameters ({sum(p.numel() for p in model.parameters() if p.requires_grad)} trainable)')"
   ]
  },
  {
   "cell_type": "code",
   "execution_count": 674,
   "id": "907a8f23-3fc3-4de5-9489-b7133deb4217",
   "metadata": {},
   "outputs": [
    {
     "name": "stdout",
     "output_type": "stream",
     "text": [
      "   Epoch 0 training loss 1.7485415935516357 (lr=0.01)\n",
      "   Epoch 100 training loss 0.41806691884994507 (lr=0.01)\n",
      "   Epoch 200 training loss 0.21575365960597992 (lr=0.01)\n",
      "   Epoch 300 training loss 0.0793471485376358 (lr=0.01)\n",
      "   Epoch 400 training loss 0.05383302643895149 (lr=0.01)\n",
      "   Epoch 500 training loss 0.04092288762331009 (lr=0.001)\n",
      "   Epoch 600 training loss 0.046299491077661514 (lr=0.001)\n",
      "   Epoch 700 training loss 0.038379330188035965 (lr=0.001)\n",
      "   Epoch 800 training loss 0.05836029350757599 (lr=0.001)\n",
      "   Epoch 900 training loss 0.022736715152859688 (lr=0.001)\n",
      "   Epoch 1000 training loss 0.04285074770450592 (lr=0.001)\n",
      "   Epoch 1100 training loss 0.0397406667470932 (lr=0.001)\n",
      "   Epoch 1200 training loss 0.030700314790010452 (lr=0.001)\n",
      "   Epoch 1300 training loss 0.05038862302899361 (lr=0.001)\n",
      "   Epoch 1400 training loss 0.023949772119522095 (lr=0.001)\n",
      "   Epoch 1500 training loss 0.04096665233373642 (lr=0.001)\n",
      "   Epoch 1600 training loss 0.022964084520936012 (lr=0.001)\n",
      "   Epoch 1700 training loss 0.028448276221752167 (lr=0.001)\n",
      "   Epoch 1800 training loss 0.036226093769073486 (lr=0.001)\n",
      "   Epoch 1900 training loss 0.011642045341432095 (lr=0.001)\n",
      "Final:   Epoch 1999 training loss 0.008783562108874321 (lr=0.001)\n"
     ]
    }
   ],
   "source": [
    "num_of_epochs = 2000\n",
    "loss_fn = torch.nn.CrossEntropyLoss()\n",
    "optimizer = torch.optim.Adam(model.parameters(), lr=0.01)\n",
    "scheduler = lr_scheduler.MultiStepLR(optimizer, milestones=[500], gamma=0.1)\n",
    "model.train()\n",
    "for n in range(num_of_epochs):\n",
    "    running_loss = 0.0\n",
    "    X_in = X_tr.long()\n",
    "    Y_in = Y_tr[:-1,:].long()\n",
    "    Y_out = Y_tr[1:,:].long()\n",
    "\n",
    "    # Get mask to mask out the next words\n",
    "    sequence_length = Y_in.size(0)\n",
    "    tgt_mask = nn.Transformer.generate_square_subsequent_mask(sequence_length)\n",
    "    \n",
    "    Y_pred = model(X_in,Y_in, tgt_mask = tgt_mask)\n",
    "\n",
    "    # seq len x num samples => num samples x seq len\n",
    "    Y_out = Y_out.permute(1,0)\n",
    "    # seq len x num samples x token one hot => num samples x token one hot x seq len    \n",
    "    Y_pred = Y_pred.permute(1, 2, 0)\n",
    "    loss = loss_fn(Y_pred,Y_out)\n",
    "\n",
    "    optimizer.zero_grad()\n",
    "    loss.backward()\n",
    "    optimizer.step()\n",
    "    running_loss += loss.item()\n",
    "    scheduler.step()\n",
    "    if n % 100 == 0:\n",
    "        print(f'   Epoch {n} training loss {running_loss} (lr={optimizer.param_groups[0][\"lr\"]})')\n",
    "print(f'Final:   Epoch {n} training loss {running_loss} (lr={optimizer.param_groups[0][\"lr\"]})')"
   ]
  },
  {
   "cell_type": "markdown",
   "id": "f1c551db-5dfa-4a54-9adb-fd1aa9621c06",
   "metadata": {},
   "source": [
    "We need to re-write the predict module since positional encoding during inference produces extra dimension compared to before"
   ]
  },
  {
   "cell_type": "code",
   "execution_count": 675,
   "id": "199ab909-818a-46ae-88ee-13352091ab62",
   "metadata": {},
   "outputs": [],
   "source": [
    "def predict(model, input_sequence, max_length=16, SOS_token=2, EOS_token=3, EOS_plus = 2):\n",
    "\n",
    "    model.eval()\n",
    "    \n",
    "    y_input = torch.tensor([SOS_token], dtype=torch.long)\n",
    "\n",
    "    sos_found = False\n",
    "    for _ in range(max_length):\n",
    "        #print(f'X={input_sequence} Y={y_input}')\n",
    "\n",
    "        sequence_length = len(y_input)\n",
    "        tgt_mask = nn.Transformer.generate_square_subsequent_mask(sequence_length)\n",
    "\n",
    "        pred = model(input_sequence, y_input, tgt_mask = tgt_mask)\n",
    "\n",
    "        # Since the positional encoding implementation the model returns seq len x batch num x feat num\n",
    "        if pred.dim() == 3:\n",
    "            pred = torch.squeeze(pred,1)\n",
    "        \n",
    "        pred_tokens = torch.argmax(pred, dim=1)\n",
    "\n",
    "        y_input = torch.cat((torch.tensor([SOS_token], dtype=torch.long), pred_tokens), dim=0)\n",
    "\n",
    "        if pred_tokens[-1] == EOS_token:\n",
    "            break\n",
    "\n",
    "    return y_input.tolist()"
   ]
  },
  {
   "cell_type": "code",
   "execution_count": 676,
   "id": "2248cc82-1b41-4384-b7c1-6200bbea3e41",
   "metadata": {},
   "outputs": [
    {
     "name": "stdout",
     "output_type": "stream",
     "text": [
      "Example 0\n",
      "Input: [0, 1, 0, 1]\n",
      "Continuation: [0, 1, 0, 1]\n",
      "\n",
      "Example 1\n",
      "Input: [1, 0, 1, 0]\n",
      "Continuation: [1, 0, 1, 0]\n",
      "\n"
     ]
    }
   ],
   "source": [
    "# Here we test some examples to observe how the model predicts\n",
    "examples = [\n",
    "    torch.tensor([2, 0, 1, 0, 1, 3], dtype=torch.long),\n",
    "    torch.tensor([2, 1, 0, 1, 0, 3], dtype=torch.long),\n",
    "]\n",
    "\n",
    "for idx, example in enumerate(examples):\n",
    "    result = predict(model, example)\n",
    "    print(f\"Example {idx}\")\n",
    "    print(f\"Input: {example.view(-1).tolist()[1:-1]}\")\n",
    "    print(f\"Continuation: {result[1:-1]}\")\n",
    "    print()"
   ]
  },
  {
   "cell_type": "markdown",
   "id": "dc6baec2-4879-4e4e-974b-d52795d9836f",
   "metadata": {},
   "source": [
    "**Findings** Works like a charm!\n"
   ]
  },
  {
   "cell_type": "markdown",
   "id": "1fbce9c7-e300-40bb-b2a4-2201a7bbe957",
   "metadata": {},
   "source": [
    "## Padding\n",
    "\n",
    "How about learning all sequences alltogether - for that we need to use padding as the sequences are of different lengths."
   ]
  },
  {
   "cell_type": "code",
   "execution_count": 677,
   "id": "3868fbd8-ad69-4412-924a-695394b36536",
   "metadata": {},
   "outputs": [],
   "source": [
    "def generate_data5(n):\n",
    "    SOS_token = np.array([2])\n",
    "    EOS_token = np.array([3])\n",
    "\n",
    "    data = []\n",
    "    seq_len = []\n",
    "    \n",
    "    # 0,0,0,0 -> 0,0,0,0 \n",
    "    for i in range(n // 8):\n",
    "        X = np.concatenate((SOS_token, [0, 0, 0, 0], EOS_token))\n",
    "        y = np.concatenate((SOS_token, [0, 0, 0, 0], EOS_token))\n",
    "        data.append([X, y])\n",
    "        seq_len.append([4+2, 4+2])\n",
    "\n",
    "    # 1,1,1,1 -> 1,1,1,1 \n",
    "    for i in range(n // 8):\n",
    "        X = np.concatenate((SOS_token, [1, 1, 1, 1], EOS_token))\n",
    "        y = np.concatenate((SOS_token, [1, 1, 1, 1], EOS_token))\n",
    "        data.append([X, y])\n",
    "        seq_len.append([4+2, 4+2])\n",
    "\n",
    "    # 0,0,0 -> 1 \n",
    "    for i in range(n // 8):\n",
    "        X = np.concatenate((SOS_token, [0, 0, 0], EOS_token))\n",
    "        y = np.concatenate((SOS_token, [1], EOS_token))\n",
    "        data.append([X, y])\n",
    "        seq_len.append([3+2, 1+2])\n",
    " \n",
    "    # 1,1,1 -> 0 \n",
    "    for i in range(n // 8):\n",
    "        X = np.concatenate((SOS_token, [1, 1, 1], EOS_token))\n",
    "        y = np.concatenate((SOS_token, [0], EOS_token))\n",
    "        data.append([X, y])\n",
    "        seq_len.append([3+2, 1+2])\n",
    "\n",
    "    # 1 -> 0,0,0 \n",
    "    for i in range(n // 8):\n",
    "        X = np.concatenate((SOS_token, [1], EOS_token))\n",
    "        y = np.concatenate((SOS_token, [0, 0, 0], EOS_token))\n",
    "        data.append([X, y])\n",
    "        seq_len.append([1+2, 3+2])\n",
    "\n",
    "    # 0 -> 1,1,1 \n",
    "    for i in range(n // 8):\n",
    "        X = np.concatenate((SOS_token, [0], EOS_token))\n",
    "        y = np.concatenate((SOS_token, [1, 1, 1], EOS_token))\n",
    "        data.append([X, y])\n",
    "        seq_len.append([1+2, 3+2])\n",
    "\n",
    "    # 0,1,0,1 -> 0,1,0,1 \n",
    "    for i in range(n // 8):\n",
    "        X = np.concatenate((SOS_token, [0,1,0,1], EOS_token))\n",
    "        y = np.concatenate((SOS_token, [0,1,0,1], EOS_token))\n",
    "        data.append([X, y])\n",
    "        seq_len.append([4+2, 4+2])\n",
    "\n",
    "    # 1,0,1,0 -> 1,0,1,0 \n",
    "    for i in range(n // 8):\n",
    "        X = np.concatenate((SOS_token, [1,0,1,0], EOS_token))\n",
    "        y = np.concatenate((SOS_token, [1,0,1,0], EOS_token))\n",
    "        data.append([X, y])\n",
    "        seq_len.append([4+2, 4+2])\n",
    "\n",
    "    temp = list(zip(data, seq_len))  # Pair the elements\n",
    "    random.shuffle(temp)  # Shuffle the pairs\n",
    "    data, seq_len = zip(*temp)  # Unzip into separate lists\n",
    "\n",
    "    #np.random.shuffle(data)\n",
    "\n",
    "    return data, seq_len"
   ]
  },
  {
   "cell_type": "markdown",
   "id": "7627ca8d-4145-48aa-9c6b-ba514debe263",
   "metadata": {},
   "source": [
    "Form training data"
   ]
  },
  {
   "cell_type": "code",
   "execution_count": 678,
   "id": "4f740aae-eacf-4d50-821e-40fd6fec523a",
   "metadata": {},
   "outputs": [
    {
     "name": "stdout",
     "output_type": "stream",
     "text": [
      "[2 0 1 0 1 3]\n",
      "[2 0 1 0 1 3]\n",
      "[6, 6]\n",
      "[2 0 0 0 3]\n",
      "[2 1 3]\n",
      "[5, 3]\n",
      "[2 1 0 1 0 3]\n",
      "[2 1 0 1 0 3]\n",
      "[6, 6]\n"
     ]
    }
   ],
   "source": [
    "tr_data, tr_seq_len = generate_data5(200)\n",
    "\n",
    "print(tr_data[0][0])\n",
    "print(tr_data[0][1])\n",
    "print(tr_seq_len[0][:])\n",
    "\n",
    "print(tr_data[1][0])\n",
    "print(tr_data[1][1])\n",
    "print(tr_seq_len[1][:])\n",
    "\n",
    "print(tr_data[2][0])\n",
    "print(tr_data[2][1])\n",
    "print(tr_seq_len[2][:])"
   ]
  },
  {
   "cell_type": "markdown",
   "id": "82e59e05-882e-415b-998a-5460b48c1fdc",
   "metadata": {},
   "source": [
    "**Padding**"
   ]
  },
  {
   "cell_type": "code",
   "execution_count": 679,
   "id": "4fdacb0a-dd58-4390-8c5d-30df50240881",
   "metadata": {},
   "outputs": [
    {
     "name": "stdout",
     "output_type": "stream",
     "text": [
      "6\n",
      "6\n",
      "torch.Size([6, 200])\n",
      "tensor([2., 0., 1., 0., 1., 3.])\n",
      "tensor([2., 0., 1., 0., 1., 3.])\n",
      "tensor([2., 0., 0., 0., 3., 4.])\n",
      "tensor([2., 1., 3., 4., 4., 4.])\n",
      "tensor([2., 1., 0., 1., 0., 3.])\n",
      "tensor([2., 1., 0., 1., 0., 3.])\n"
     ]
    }
   ],
   "source": [
    "PAD_IDX = 4\n",
    "max_len_X = max([foo[0] for foo in tr_seq_len])\n",
    "max_len_Y = max([foo[1] for foo in tr_seq_len])\n",
    "print(max_len_X)\n",
    "print(max_len_Y)\n",
    "\n",
    "X_tr = PAD_IDX*torch.ones((max_len_X,len(tr_data)))\n",
    "Y_tr = PAD_IDX*torch.ones((max_len_Y,len(tr_data)))\n",
    "for ids, s in enumerate(tr_data):\n",
    "    X_tr[:tr_seq_len[ids][0],ids] = torch.from_numpy(s[0])\n",
    "    Y_tr[:tr_seq_len[ids][1],ids] = torch.from_numpy(s[1])\n",
    "print(X_tr.shape)\n",
    "\n",
    "print(X_tr[:,0])\n",
    "print(Y_tr[:,0])\n",
    "\n",
    "print(X_tr[:,1])\n",
    "print(Y_tr[:,1])\n",
    "\n",
    "print(X_tr[:,2])\n",
    "print(Y_tr[:,2])"
   ]
  },
  {
   "cell_type": "code",
   "execution_count": 680,
   "id": "f3dabbf3-0f9f-4732-b051-b8de5e4a93d9",
   "metadata": {},
   "outputs": [
    {
     "name": "stdout",
     "output_type": "stream",
     "text": [
      "tensor([False, False, False, False, False, False])\n",
      "tensor([False, False, False, False, False, False])\n",
      "tensor([False, False, False, False, False,  True])\n",
      "tensor([False, False, False,  True,  True,  True])\n",
      "tensor([False, False, False, False, False, False])\n",
      "tensor([False, False, False, False, False, False])\n"
     ]
    }
   ],
   "source": [
    "src_padding_mask = (X_tr == PAD_IDX).transpose(0, 1)\n",
    "tgt_padding_mask = (Y_tr == PAD_IDX).transpose(0, 1)\n",
    "\n",
    "print(src_padding_mask[0,:])\n",
    "print(tgt_padding_mask[0,:])\n",
    "print(src_padding_mask[1,:])\n",
    "print(tgt_padding_mask[1,:])\n",
    "print(src_padding_mask[2,:])\n",
    "print(tgt_padding_mask[2,:])\n",
    "\n",
    "# Own experiments\n",
    "#foo = src_padding_mask\n",
    "#print(foo.shape)\n",
    "#foo = foo.repeat(8,1,1)\n",
    "#print(foo.shape)\n",
    "#foo = foo.permute(2,1,0)\n",
    "#print(foo.shape)\n",
    "#print(foo[:,2,0])\n",
    "#foo = torch.where(foo == False, 1.0, 0.0)\n",
    "#print(foo[:,2,0])"
   ]
  },
  {
   "cell_type": "code",
   "execution_count": 681,
   "id": "423a494b-5e63-4bf2-94f3-e576658f47a1",
   "metadata": {},
   "outputs": [],
   "source": [
    "class Seq2SeqTransformer(nn.Module):\n",
    "    # Constructor\n",
    "    def __init__(\n",
    "        self,\n",
    "        num_tokens,\n",
    "        d_model,\n",
    "        nhead,\n",
    "        num_encoder_layers,\n",
    "        num_decoder_layers,\n",
    "        dim_feedforward,\n",
    "        dropout_p,\n",
    "        layer_norm_eps,\n",
    "        padding_idx = None\n",
    "    ):\n",
    "        super().__init__()\n",
    "\n",
    "        self.d_model = d_model\n",
    "        self.padding_idx = padding_idx\n",
    "\n",
    "        if padding_idx != None:\n",
    "            # Token embedding layer - this takes care of converting integer to vectors\n",
    "            self.embedding = nn.Embedding(num_tokens+1, d_model, padding_idx = self.padding_idx)\n",
    "        else:\n",
    "            # Token embedding layer - this takes care of converting integer to vectors\n",
    "            self.embedding = nn.Embedding(num_tokens, d_model)\n",
    "        \n",
    "        # Token \"unembedding\" to one-hot token vector\n",
    "        self.unembedding = nn.Linear(d_model, num_tokens)\n",
    "\n",
    "        # Positional encoding\n",
    "        self.positional_encoder = PositionalEncoding(d_model=d_model, dropout=dropout_p)\n",
    "\n",
    "        # nn.Transformer that does the magic\n",
    "        self.transformer = nn.Transformer(\n",
    "            d_model = d_model,\n",
    "            nhead = nhead,\n",
    "            num_encoder_layers = num_encoder_layers,\n",
    "            num_decoder_layers = num_decoder_layers,\n",
    "            dim_feedforward = dim_feedforward,\n",
    "            dropout = dropout_p,\n",
    "            layer_norm_eps = layer_norm_eps,\n",
    "            norm_first = True\n",
    "        )\n",
    "\n",
    "    def forward(\n",
    "        self,\n",
    "        src,\n",
    "        tgt,\n",
    "        tgt_mask = None,\n",
    "        src_key_padding_mask = None,\n",
    "        tgt_key_padding_mask = None\n",
    "    ):\n",
    "        # Note: src & tgt default size is (seq_length, batch_num, feat_dim)\n",
    "\n",
    "        # Token embedding\n",
    "        src = self.embedding(src) * math.sqrt(self.d_model)\n",
    "        tgt = self.embedding(tgt) * math.sqrt(self.d_model)\n",
    "\n",
    "        # Positional encoding - this is sensitive that data _must_ be seq len x batch num x feat dim\n",
    "        # Inference often misses the batch num\n",
    "        if src.dim() == 2: # seq len x feat dim\n",
    "            src = torch.unsqueeze(src,1) \n",
    "        src = self.positional_encoder(src)\n",
    "        if tgt.dim() == 2: # seq len x feat dim\n",
    "            tgt = torch.unsqueeze(tgt,1) \n",
    "        tgt = self.positional_encoder(tgt)\n",
    "\n",
    "        # Transformer output\n",
    "        out = self.transformer(src, tgt, tgt_mask=tgt_mask, src_key_padding_mask = src_key_padding_mask,\n",
    "                               tgt_key_padding_mask=tgt_key_padding_mask, memory_key_padding_mask=src_key_padding_mask)\n",
    "        out = self.unembedding(out)\n",
    "        \n",
    "        return out"
   ]
  },
  {
   "cell_type": "code",
   "execution_count": 682,
   "id": "cc62cbec-c394-4b14-ac90-b4572f1691fa",
   "metadata": {},
   "outputs": [
    {
     "name": "stdout",
     "output_type": "stream",
     "text": [
      "The model has 1340 parameters (1340 trainable)\n"
     ]
    }
   ],
   "source": [
    "model = Seq2SeqTransformer(num_tokens = 4, d_model = 8, nhead = 1, num_encoder_layers = 1,\n",
    "                    num_decoder_layers = 1, dim_feedforward = 8, dropout_p = 0.1,\n",
    "                    layer_norm_eps = 1e-05, padding_idx = PAD_IDX)\n",
    "\n",
    "#print(model)\n",
    "print(f'The model has {sum(p.numel() for p in model.parameters())} parameters ({sum(p.numel() for p in model.parameters() if p.requires_grad)} trainable)')"
   ]
  },
  {
   "cell_type": "code",
   "execution_count": 683,
   "id": "f99f4367-84df-46c2-bd64-75a0047a49ab",
   "metadata": {},
   "outputs": [
    {
     "name": "stdout",
     "output_type": "stream",
     "text": [
      "   Epoch 0 training loss 1.3525161743164062 (lr=0.01)\n",
      "   Epoch 100 training loss 0.5397025942802429 (lr=0.01)\n",
      "   Epoch 200 training loss 0.3458441495895386 (lr=0.01)\n",
      "   Epoch 300 training loss 0.2927950918674469 (lr=0.01)\n",
      "   Epoch 400 training loss 0.24350842833518982 (lr=0.01)\n",
      "   Epoch 500 training loss 0.2193882018327713 (lr=0.01)\n",
      "   Epoch 600 training loss 0.1860966682434082 (lr=0.01)\n",
      "   Epoch 700 training loss 0.15263524651527405 (lr=0.01)\n",
      "   Epoch 800 training loss 0.1544901579618454 (lr=0.01)\n",
      "   Epoch 900 training loss 0.16662688553333282 (lr=0.01)\n",
      "   Epoch 1000 training loss 0.13945193588733673 (lr=0.001)\n",
      "   Epoch 1100 training loss 0.1130961999297142 (lr=0.001)\n",
      "   Epoch 1200 training loss 0.12732738256454468 (lr=0.001)\n",
      "   Epoch 1300 training loss 0.12633047997951508 (lr=0.001)\n",
      "   Epoch 1400 training loss 0.12585079669952393 (lr=0.001)\n",
      "   Epoch 1500 training loss 0.13260918855667114 (lr=0.001)\n",
      "   Epoch 1600 training loss 0.09995909780263901 (lr=0.001)\n",
      "   Epoch 1700 training loss 0.09377395361661911 (lr=0.001)\n",
      "   Epoch 1800 training loss 0.12214040011167526 (lr=0.001)\n",
      "   Epoch 1900 training loss 0.09379428625106812 (lr=0.001)\n",
      "Final:   Epoch 1999 training loss 0.11169883608818054 (lr=0.001)\n"
     ]
    }
   ],
   "source": [
    "num_of_epochs = 2000\n",
    "loss_fn = torch.nn.CrossEntropyLoss(ignore_index=PAD_IDX)\n",
    "optimizer = torch.optim.Adam(model.parameters(), lr=0.01)\n",
    "scheduler = lr_scheduler.MultiStepLR(optimizer, milestones=[1000], gamma=0.1)\n",
    "model.train()\n",
    "for n in range(num_of_epochs):\n",
    "    running_loss = 0.0\n",
    "    X_in = X_tr.long()\n",
    "    Y_in = Y_tr[:-1,:].long()\n",
    "    Y_out = Y_tr[1:,:].long()\n",
    "    tgt_padding_mask_in = tgt_padding_mask[:,:-1]\n",
    "    \n",
    "    # Get mask to mask out the next words\n",
    "    sequence_length = Y_in.size(0)\n",
    "    tgt_mask = nn.Transformer.generate_square_subsequent_mask(sequence_length)\n",
    "    \n",
    "    Y_pred = model(X_in,Y_in, tgt_mask = tgt_mask, src_key_padding_mask = src_padding_mask,\n",
    "                   tgt_key_padding_mask = tgt_padding_mask_in)\n",
    "\n",
    "    # seq len x num samples => num samples x seq len\n",
    "    Y_out = Y_out.permute(1,0)\n",
    "    # seq len x num samples x token one hot => num samples x token one hot x seq len    \n",
    "    Y_pred = Y_pred.permute(1, 2, 0)\n",
    "    #print(Y_pred.shape)\n",
    "    loss = loss_fn(Y_pred,Y_out)\n",
    "\n",
    "    optimizer.zero_grad()\n",
    "    loss.backward()\n",
    "    optimizer.step()\n",
    "    running_loss += loss.item()\n",
    "    scheduler.step()\n",
    "    if n % 100 == 0:\n",
    "        print(f'   Epoch {n} training loss {running_loss} (lr={optimizer.param_groups[0][\"lr\"]})')\n",
    "print(f'Final:   Epoch {n} training loss {running_loss} (lr={optimizer.param_groups[0][\"lr\"]})')"
   ]
  },
  {
   "cell_type": "code",
   "execution_count": 685,
   "id": "6a5307b5-6a2d-478a-ae77-4c4183a892aa",
   "metadata": {},
   "outputs": [
    {
     "name": "stdout",
     "output_type": "stream",
     "text": [
      "Example 0\n",
      "Input sequence: [0, 0, 0, 0]\n",
      "Output (predicted) sequence: [0, 0, 0, 0]\n",
      "\n",
      "Example 1\n",
      "Input sequence: [1, 1, 1, 1]\n",
      "Output (predicted) sequence: [1, 1, 1, 1]\n",
      "\n",
      "Example 2\n",
      "Input sequence: [1, 1, 1]\n",
      "Output (predicted) sequence: [0]\n",
      "\n",
      "Example 3\n",
      "Input sequence: [0, 0, 0]\n",
      "Output (predicted) sequence: [1]\n",
      "\n",
      "Example 4\n",
      "Input sequence: [0]\n",
      "Output (predicted) sequence: [1, 1, 1]\n",
      "\n",
      "Example 5\n",
      "Input sequence: [1]\n",
      "Output (predicted) sequence: [0, 0, 0]\n",
      "\n",
      "Example 6\n",
      "Input sequence: [0, 1, 0, 1]\n",
      "Output (predicted) sequence: [0, 1, 0, 1]\n",
      "\n",
      "Example 7\n",
      "Input sequence: [1, 0, 1, 0]\n",
      "Output (predicted) sequence: [1, 0, 1, 0]\n",
      "\n"
     ]
    }
   ],
   "source": [
    "# Here we test some examples to observe how the model predicts\n",
    "examples = [\n",
    "    torch.tensor([2, 0, 0, 0, 0, 3], dtype=torch.long),\n",
    "    torch.tensor([2, 1, 1, 1, 1, 3], dtype=torch.long),\n",
    "    torch.tensor([2, 1, 1, 1, 3], dtype=torch.long),\n",
    "    torch.tensor([2, 0, 0, 0, 3], dtype=torch.long),\n",
    "    torch.tensor([2, 0, 3], dtype=torch.long),\n",
    "    torch.tensor([2, 1, 3], dtype=torch.long),\n",
    "    torch.tensor([2, 0, 1, 0, 1, 3], dtype=torch.long),\n",
    "    torch.tensor([2, 1, 0, 1, 0, 3], dtype=torch.long),\n",
    "]\n",
    "\n",
    "for idx, example in enumerate(examples):\n",
    "    result = predict(model, example)\n",
    "    print(f\"Example {idx}\")\n",
    "    print(f\"Input sequence: {example.view(-1).tolist()[1:-1]}\")\n",
    "    print(f\"Output (predicted) sequence: {result[1:-1]}\")\n",
    "    print()"
   ]
  },
  {
   "cell_type": "markdown",
   "id": "b32b2b42-4ff8-4e81-8a80-39f2c6966c08",
   "metadata": {},
   "source": [
    "# That's it folks!"
   ]
  }
 ],
 "metadata": {
  "kernelspec": {
   "display_name": "Python 3 (ipykernel)",
   "language": "python",
   "name": "python3"
  },
  "language_info": {
   "codemirror_mode": {
    "name": "ipython",
    "version": 3
   },
   "file_extension": ".py",
   "mimetype": "text/x-python",
   "name": "python",
   "nbconvert_exporter": "python",
   "pygments_lexer": "ipython3",
   "version": "3.12.2"
  }
 },
 "nbformat": 4,
 "nbformat_minor": 5
}
